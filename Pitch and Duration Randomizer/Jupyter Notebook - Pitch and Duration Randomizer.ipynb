{
 "cells": [
  {
   "cell_type": "code",
   "execution_count": 1,
   "metadata": {
    "collapsed": true
   },
   "outputs": [],
   "source": [
    "import random\n",
    "import pandas as pd"
   ]
  },
  {
   "cell_type": "markdown",
   "metadata": {},
   "source": [
    "#### These are lists of musical notes and temploral durations"
   ]
  },
  {
   "cell_type": "code",
   "execution_count": 2,
   "metadata": {
    "collapsed": true
   },
   "outputs": [],
   "source": [
    "chrom_scale = ['C','C#','D','D#','E','F','F#','G','G#','A','A#','B']\n",
    "all_notes = [note+str(r)for r in range(0,8) for note in chrom_scale]\n",
    "all_durs = ['1/32','1/16','3/32','1/8','3/16','1/4','3/8','1/2','3/4','1']"
   ]
  },
  {
   "cell_type": "markdown",
   "metadata": {},
   "source": [
    "### 1)\n",
    "This will select the pitch range"
   ]
  },
  {
   "cell_type": "code",
   "execution_count": 3,
   "metadata": {
    "collapsed": true
   },
   "outputs": [],
   "source": [
    "def pitch_range_slicer(first,last):\n",
    "    i1 = all_notes.index(first)\n",
    "    i2 = all_notes.index(last)\n",
    "    result = all_notes[i1:i2 + 1]\n",
    "    return result"
   ]
  },
  {
   "cell_type": "markdown",
   "metadata": {},
   "source": [
    "### 2)"
   ]
  },
  {
   "cell_type": "code",
   "execution_count": 4,
   "metadata": {
    "collapsed": true
   },
   "outputs": [],
   "source": [
    "def set_scale(notes,pitch_range):\n",
    "    result = []\n",
    "    for i in pitch_range:\n",
    "        if i[:-1] in notes:\n",
    "            result.append(i)\n",
    "    return result"
   ]
  },
  {
   "cell_type": "markdown",
   "metadata": {},
   "source": [
    "### 3)\n",
    "#### This will randomize pitch but with constraints:\n",
    "set_ = the specific set of notes\n",
    "<br> distance = after picking one random note from the note set, each subsequent note will be chosen randomly from a new set within a range with this distance\n",
    "<br> repeats = determines whether or not repeats are allowed (boolean)\n",
    "<br> results = the total number of notes to output"
   ]
  },
  {
   "cell_type": "code",
   "execution_count": 5,
   "metadata": {
    "collapsed": true
   },
   "outputs": [],
   "source": [
    "def randomize_pitch(set_,distance, repeats, results):\n",
    "    result = []\n",
    "    rand = random.randint(0,len(set_)-1)\n",
    "    result.append(set_[rand])\n",
    "    if repeats:\n",
    "        for i in range(results-1):\n",
    "            pre_note = set_.index(result[-1])\n",
    "            min_ = pre_note - distance\n",
    "            max_ = pre_note + distance\n",
    "            if min_ < 0 and max_ > (len(set_)-1):\n",
    "                r = random.randint(0,len(set_)-1)\n",
    "            elif min_ < 0:\n",
    "                r = random.randint(0,max_)\n",
    "            elif max_ > (len(set_) - 1) :\n",
    "                r = random.randint(min_, len(set_)-1)\n",
    "            else:    \n",
    "                r = random.randint(min_, max_)\n",
    "            result.append(set_[r])\n",
    "    else:\n",
    "        for i in range(results-1):\n",
    "            pre_note = set_.index(result[-1])\n",
    "            min_ = pre_note - distance\n",
    "            max_ = pre_note + distance\n",
    "            if min_ < 0 and max_ > (len(set_)-1):\n",
    "                rrange = range(0,pre_note) + range(pre_note+1,len(set_))\n",
    "                r = random.choice(rrange)\n",
    "            elif min_ < 0:\n",
    "                    if distance > 1:\n",
    "                        rrange = range(0,pre_note) + range(pre_note+1,max_+1)\n",
    "                        r = random.choice(rrange)\n",
    "                    else:\n",
    "                        if pre_note == 0:\n",
    "                            r = 1\n",
    "                        else: # pre_note == 1\n",
    "                            rrange = range(0, pre_note) + range(pre_note+1, max_+1)\n",
    "                            r = random.choice(rrange)\n",
    "            elif max_ > (len(set_) - 1):\n",
    "                rrange = range(min_,pre_note) + range(pre_note+1, len(set_))\n",
    "                r = random.choice(rrange)\n",
    "            else:    \n",
    "                rrange = range(min_,pre_note) + range(pre_note+1, max_+1)\n",
    "                r = random.choice(rrange)\n",
    "            result.append(set_[r])        \n",
    "    return result"
   ]
  },
  {
   "cell_type": "markdown",
   "metadata": {},
   "source": [
    "### 4)\n",
    "#### This randomizes duration but with constraints:\n",
    "set_ = the set of durations to select from\n",
    "<br> distance = after picking one random note from the note set, each subsequent note will be chosen randomly from a new set within a range with this distance \n",
    "<br> results = the total number of durations to output"
   ]
  },
  {
   "cell_type": "code",
   "execution_count": 6,
   "metadata": {
    "collapsed": true
   },
   "outputs": [],
   "source": [
    "def randomize_duration(set_,distance, results):\n",
    "    result = []\n",
    "    rand = random.randint(0,len(set_)-1)\n",
    "    result.append(set_[rand])\n",
    "    for i in range(results-1):\n",
    "        pre_note = set_.index(result[-1])\n",
    "        min_ = pre_note - distance\n",
    "        max_ = pre_note + distance\n",
    "        if min_ < 0 and max_ > (len(set_)-1):\n",
    "            r = random.randint(0,len(set_)-1)\n",
    "        elif min_ < 0:\n",
    "            r = random.randint(0,max_- 1)\n",
    "        elif max_ > (len(set_) - 1):\n",
    "            r = random.randint(min_, len(set_)-1)\n",
    "        else:    \n",
    "            r = random.randint(min_, max_)\n",
    "        result.append(set_[r])\n",
    "    return result"
   ]
  },
  {
   "cell_type": "markdown",
   "metadata": {},
   "source": [
    "### 5)\n",
    "#### This is THE function that combines pitch and durations to give our final desired output\n"
   ]
  },
  {
   "cell_type": "code",
   "execution_count": 7,
   "metadata": {
    "collapsed": true
   },
   "outputs": [],
   "source": [
    "def randomize(scale,pitch_range,pitch_distance,dur_set,dur_distance,repeats,n_notes):\n",
    "    pitch_range = pitch_range_slicer(pitch_range[0],pitch_range[1])\n",
    "    set_ = set_scale(scale,pitch_range)\n",
    "    pitch_result = randomize_pitch(set_,pitch_distance,repeats,n_notes)\n",
    "    duration_result = randomize_duration(dur_set,dur_distance,n_notes)\n",
    "    result = zip(pitch_result,duration_result)\n",
    "    return result"
   ]
  },
  {
   "cell_type": "markdown",
   "metadata": {},
   "source": [
    "### Example:"
   ]
  },
  {
   "cell_type": "code",
   "execution_count": 8,
   "metadata": {
    "collapsed": true
   },
   "outputs": [],
   "source": [
    "pitch_range = ['B1','C#7']\n",
    "scale = ['E', 'F#', 'G#', 'B', 'C#','D']\n",
    "pitch_distance = 5\n",
    "durs = ['1/16','3/32','1/8','3/16','1/4','3/8']\n",
    "\n",
    "dur_distance = 5\n",
    "n_notes = 20\n",
    "\n",
    "a = randomize(scale, pitch_range, pitch_distance, durs, dur_distance, True ,n_notes)"
   ]
  },
  {
   "cell_type": "markdown",
   "metadata": {},
   "source": [
    "This converts the final output to a dataframe. \n",
    "<br> The below commented-out code can be used to download an excel file of the output"
   ]
  },
  {
   "cell_type": "code",
   "execution_count": 9,
   "metadata": {},
   "outputs": [],
   "source": [
    "df = pd.DataFrame(a,columns=['Notes','Durations'])\n",
    "\n",
    "# file_ = 'DadaSoup'\n",
    "# writer = pd.ExcelWriter('downloads/{}.xlsx'.format(file))\n",
    "# df.to_excel(writer,sheet_name=\"sheet1\")\n",
    "# writer.save()"
   ]
  },
  {
   "cell_type": "code",
   "execution_count": 10,
   "metadata": {},
   "outputs": [
    {
     "data": {
      "text/html": [
       "<div>\n",
       "<table border=\"1\" class=\"dataframe\">\n",
       "  <thead>\n",
       "    <tr style=\"text-align: right;\">\n",
       "      <th></th>\n",
       "      <th>Notes</th>\n",
       "      <th>Durations</th>\n",
       "    </tr>\n",
       "  </thead>\n",
       "  <tbody>\n",
       "    <tr>\n",
       "      <th>0</th>\n",
       "      <td>E6</td>\n",
       "      <td>3/16</td>\n",
       "    </tr>\n",
       "    <tr>\n",
       "      <th>1</th>\n",
       "      <td>D6</td>\n",
       "      <td>3/8</td>\n",
       "    </tr>\n",
       "    <tr>\n",
       "      <th>2</th>\n",
       "      <td>F#6</td>\n",
       "      <td>3/8</td>\n",
       "    </tr>\n",
       "    <tr>\n",
       "      <th>3</th>\n",
       "      <td>G#5</td>\n",
       "      <td>3/32</td>\n",
       "    </tr>\n",
       "    <tr>\n",
       "      <th>4</th>\n",
       "      <td>B4</td>\n",
       "      <td>1/8</td>\n",
       "    </tr>\n",
       "  </tbody>\n",
       "</table>\n",
       "</div>"
      ],
      "text/plain": [
       "  Notes Durations\n",
       "0    E6      3/16\n",
       "1    D6       3/8\n",
       "2   F#6       3/8\n",
       "3   G#5      3/32\n",
       "4    B4       1/8"
      ]
     },
     "execution_count": 10,
     "metadata": {},
     "output_type": "execute_result"
    }
   ],
   "source": [
    "df.head()"
   ]
  },
  {
   "cell_type": "markdown",
   "metadata": {},
   "source": [
    "This gives the length of time of all of the notes in the final output."
   ]
  },
  {
   "cell_type": "code",
   "execution_count": 11,
   "metadata": {
    "collapsed": true
   },
   "outputs": [],
   "source": [
    "def length(a):\n",
    "    length = 0\n",
    "    for i in a:\n",
    "        l = i[1].split('/')\n",
    "        num = float(l[0])\n",
    "        try:\n",
    "            den = float(l[1])\n",
    "        except:\n",
    "            den = 1\n",
    "        frac = num / den\n",
    "        length += frac\n",
    "    tempo = 160\n",
    "    bars_pm = tempo / 4\n",
    "    minutes = float(length) / bars_pm\n",
    "    seconds = minutes * 60\n",
    "    hours = minutes / 60\n",
    "    print 'hours: ', hours,'\\n', 'minutes: ', minutes, '\\n', 'seconds: ', seconds"
   ]
  }
 ],
 "metadata": {
  "kernelspec": {
   "display_name": "Python 2",
   "language": "python",
   "name": "python2"
  },
  "language_info": {
   "codemirror_mode": {
    "name": "ipython",
    "version": 2
   },
   "file_extension": ".py",
   "mimetype": "text/x-python",
   "name": "python",
   "nbconvert_exporter": "python",
   "pygments_lexer": "ipython2",
   "version": "2.7.13"
  }
 },
 "nbformat": 4,
 "nbformat_minor": 2
}
